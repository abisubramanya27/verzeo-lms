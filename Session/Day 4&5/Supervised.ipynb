{
 "cells": [
  {
   "cell_type": "markdown",
   "metadata": {},
   "source": [
    "if salary > 50000"
   ]
  },
  {
   "cell_type": "code",
   "execution_count": 2,
   "metadata": {},
   "outputs": [],
   "source": [
    "import numpy as np\n",
    "import pandas as pd\n",
    "from sklearn.linear_model import LinearRegression\n",
    "from sklearn.model_selection import train_test_split\n",
    "from sklearn import metrics\n",
    "import matplotlib.pyplot as plt"
   ]
  },
  {
   "cell_type": "code",
   "execution_count": 11,
   "metadata": {},
   "outputs": [],
   "source": [
    "data = pd.read_csv(\"data2.csv\")\n",
    "# array = []\n",
    "x = data[['TV','radio','newspaper']]\n",
    "y= data.sales # EQUALS TO data['sales']"
   ]
  },
  {
   "cell_type": "code",
   "execution_count": 6,
   "metadata": {},
   "outputs": [
    {
     "name": "stdout",
     "output_type": "stream",
     "text": [
      "     Unnamed: 0     TV  radio  newspaper  sales\n",
      "0             1  230.1   37.8       69.2   22.1\n",
      "1             2   44.5   39.3       45.1   10.4\n",
      "2             3   17.2   45.9       69.3    9.3\n",
      "3             4  151.5   41.3       58.5   18.5\n",
      "4             5  180.8   10.8       58.4   12.9\n",
      "5             6    8.7   48.9       75.0    7.2\n",
      "6             7   57.5   32.8       23.5   11.8\n",
      "7             8  120.2   19.6       11.6   13.2\n",
      "8             9    8.6    2.1        1.0    4.8\n",
      "9            10  199.8    2.6       21.2   10.6\n",
      "10           11   66.1    5.8       24.2    8.6\n",
      "11           12  214.7   24.0        4.0   17.4\n",
      "12           13   23.8   35.1       65.9    9.2\n",
      "13           14   97.5    7.6        7.2    9.7\n",
      "14           15  204.1   32.9       46.0   19.0\n",
      "15           16  195.4   47.7       52.9   22.4\n",
      "16           17   67.8   36.6      114.0   12.5\n",
      "17           18  281.4   39.6       55.8   24.4\n",
      "18           19   69.2   20.5       18.3   11.3\n",
      "19           20  147.3   23.9       19.1   14.6\n",
      "20           21  218.4   27.7       53.4   18.0\n",
      "21           22  237.4    5.1       23.5   12.5\n",
      "22           23   13.2   15.9       49.6    5.6\n",
      "23           24  228.3   16.9       26.2   15.5\n",
      "24           25   62.3   12.6       18.3    9.7\n",
      "25           26  262.9    3.5       19.5   12.0\n",
      "26           27  142.9   29.3       12.6   15.0\n",
      "27           28  240.1   16.7       22.9   15.9\n",
      "28           29  248.8   27.1       22.9   18.9\n",
      "29           30   70.6   16.0       40.8   10.5\n",
      "..          ...    ...    ...        ...    ...\n",
      "170         171   50.0   11.6       18.4    8.4\n",
      "171         172  164.5   20.9       47.4   14.5\n",
      "172         173   19.6   20.1       17.0    7.6\n",
      "173         174  168.4    7.1       12.8   11.7\n",
      "174         175  222.4    3.4       13.1   11.5\n",
      "175         176  276.9   48.9       41.8   27.0\n",
      "176         177  248.4   30.2       20.3   20.2\n",
      "177         178  170.2    7.8       35.2   11.7\n",
      "178         179  276.7    2.3       23.7   11.8\n",
      "179         180  165.6   10.0       17.6   12.6\n",
      "180         181  156.6    2.6        8.3   10.5\n",
      "181         182  218.5    5.4       27.4   12.2\n",
      "182         183   56.2    5.7       29.7    8.7\n",
      "183         184  287.6   43.0       71.8   26.2\n",
      "184         185  253.8   21.3       30.0   17.6\n",
      "185         186  205.0   45.1       19.6   22.6\n",
      "186         187  139.5    2.1       26.6   10.3\n",
      "187         188  191.1   28.7       18.2   17.3\n",
      "188         189  286.0   13.9        3.7   15.9\n",
      "189         190   18.7   12.1       23.4    6.7\n",
      "190         191   39.5   41.1        5.8   10.8\n",
      "191         192   75.5   10.8        6.0    9.9\n",
      "192         193   17.2    4.1       31.6    5.9\n",
      "193         194  166.8   42.0        3.6   19.6\n",
      "194         195  149.7   35.6        6.0   17.3\n",
      "195         196   38.2    3.7       13.8    7.6\n",
      "196         197   94.2    4.9        8.1    9.7\n",
      "197         198  177.0    9.3        6.4   12.8\n",
      "198         199  283.6   42.0       66.2   25.5\n",
      "199         200  232.1    8.6        8.7   13.4\n",
      "\n",
      "[200 rows x 5 columns]\n"
     ]
    }
   ],
   "source": [
    "print(data)\n",
    "# print(x)"
   ]
  },
  {
   "cell_type": "code",
   "execution_count": 12,
   "metadata": {},
   "outputs": [
    {
     "data": {
      "text/plain": [
       "LinearRegression(copy_X=True, fit_intercept=True, n_jobs=None,\n",
       "         normalize=False)"
      ]
     },
     "execution_count": 12,
     "metadata": {},
     "output_type": "execute_result"
    }
   ],
   "source": [
    "X_train,X_test,y_train,y_test = train_test_split(x,y,random_state=50)\n",
    "# Created the object of linearRegression\n",
    "linearreg = LinearRegression()\n",
    "linearreg.fit(X_train,y_train)"
   ]
  },
  {
   "cell_type": "code",
   "execution_count": 13,
   "metadata": {},
   "outputs": [
    {
     "name": "stdout",
     "output_type": "stream",
     "text": [
      "1.4560791402121016\n"
     ]
    }
   ],
   "source": [
    "y_predict = linearreg.predict(X_test)\n",
    "print(np.sqrt(metrics.mean_squared_error(y_test,y_predict)))\n"
   ]
  },
  {
   "cell_type": "code",
   "execution_count": 30,
   "metadata": {},
   "outputs": [
    {
     "data": {
      "image/png": "[encoded data removed]",
      "text/plain": [
       "<Figure size 432x288 with 1 Axes>"
      ]
     },
     "metadata": {
      "needs_background": "light"
     },
     "output_type": "display_data"
    }
   ],
   "source": [
    "# plt.plot(X_test[\"TV\"],y_predict,'.')\n",
    "plt.plot(X_test[\"TV\"],y_predict,'k*')\n",
    "plt.plot(X_test['TV'],y_test,'r.')\n",
    "plt.show()"
   ]
  },
  {
   "cell_type": "markdown",
   "metadata": {},
   "source": [
    "# Classifier"
   ]
  },
  {
   "cell_type": "code",
   "execution_count": 2,
   "metadata": {},
   "outputs": [],
   "source": [
    "from sklearn import tree"
   ]
  },
  {
   "cell_type": "code",
   "execution_count": 3,
   "metadata": {},
   "outputs": [],
   "source": [
    "features = [[155,2],[130,2],[135,1],[110,1],[20,1],[25,1]] #2 represent rough and 1 represent smooth texture\n",
    "# features = [[weight,texture]] 2 represent rough, 1 represents smooth\n",
    "labels = [0,0,1,1,2,2]\n",
    "# labels- 0 represent orange, 2 represents berry, 1 represent apple\n",
    "classifier = tree.DecisionTreeClassifier()\n",
    "# print(type(classifier))\n",
    "classifier = classifier.fit(features,labels)\n"
   ]
  },
  {
   "cell_type": "code",
   "execution_count": 34,
   "metadata": {},
   "outputs": [
    {
     "name": "stdout",
     "output_type": "stream",
     "text": [
      "Orange\n"
     ]
    }
   ],
   "source": [
    "classify = classifier.predict([[130,2]])\n",
    "\n",
    "if classify == 1:\n",
    "    print(\"Apple\")\n",
    "elif classify == 0:\n",
    "    print(\"Orange\")\n",
    "elif classify == 2:\n",
    "    print('Berries')"
   ]
  },
  {
   "cell_type": "markdown",
   "metadata": {},
   "source": [
    "# KNN"
   ]
  },
  {
   "cell_type": "code",
   "execution_count": 36,
   "metadata": {},
   "outputs": [],
   "source": [
    "import math\n",
    "import matplotlib.pyplot as plt"
   ]
  },
  {
   "cell_type": "code",
   "execution_count": 45,
   "metadata": {},
   "outputs": [],
   "source": [
    "def classify(points,p,k):\n",
    "    distance=list()\n",
    "    for group in points: # Getting iterated 2 times\n",
    "        print('group',group)\n",
    "#         print(points[group])\n",
    "#         print('-'*100)\n",
    "        for feature in points[group]:\n",
    "            euclidean_distance = math.sqrt((feature[0]-p[0])**2+(feature[1]-p[1])**2)\n",
    "            distance.append((euclidean_distance,group))\n",
    "    print(distance)\n",
    "    print('-'*100)\n",
    "#     print(sorted(distance))\n",
    "#     print('-'*100)\n",
    "    distance = sorted(distance)[:k]\n",
    "#     print(distance)\n",
    "#     print('-'*100)\n",
    "    freq1 = 0 # representing group 0\n",
    "    freq2 = 0 # representing group 1\n",
    "    for d in distance:\n",
    "        if d[1]==0:\n",
    "            freq1 +=1\n",
    "        elif d[1]==1:\n",
    "            freq2 +=1\n",
    "    return 0 if freq1>freq2 else 1\n"
   ]
  },
  {
   "cell_type": "code",
   "execution_count": 46,
   "metadata": {},
   "outputs": [],
   "source": [
    "def knn():\n",
    "    points={0:[(1,12),(2,5),(3,6),(3,10),(3.5,8),(2,11),(2,9),(1,7)],\n",
    "            1:[(5,3),(3,2),(1.5,9),(7,2),(6,1),(3.8,1),(5.6,4),(4,2),(2,5)]}\n",
    "    p=(4,5)\n",
    "    k=3\n",
    "    print(\"The value classified to unknown point is Group {}\".format(classify(points,\n",
    "                                                                         p,k)))"
   ]
  },
  {
   "cell_type": "code",
   "execution_count": 47,
   "metadata": {},
   "outputs": [
    {
     "name": "stdout",
     "output_type": "stream",
     "text": [
      "group 0\n",
      "group 1\n",
      "[(7.615773105863909, 0), (2.0, 0), (1.4142135623730951, 0), (5.0990195135927845, 0), (3.0413812651491097, 0), (6.324555320336759, 0), (4.47213595499958, 0), (3.605551275463989, 0), (2.23606797749979, 1), (3.1622776601683795, 1), (4.716990566028302, 1), (4.242640687119285, 1), (4.47213595499958, 1), (4.004996878900157, 1), (1.8867962264113205, 1), (3.0, 1), (2.0, 1)]\n",
      "----------------------------------------------------------------------------------------------------\n",
      "The value classified to unknown point is Group 0\n"
     ]
    }
   ],
   "source": [
    "knn()"
   ]
  },
  {
   "cell_type": "code",
   "execution_count": 40,
   "metadata": {},
   "outputs": [],
   "source": [
    "points={0:[(1,12),(2,5),(3,6),(3,10),(3.5,8),(2,11),(2,9),(1,7)],1:[(5,3),(3,2)\n",
    ",(1.5,9),(7,2),(6,1),(3.8,1),(5.6,4),(4,2),(2,5)]}\n",
    "x=list()\n",
    "y= list()\n",
    "for i in points[0]:\n",
    "    x.append(i[0])\n",
    "    y.append(i[1])\n",
    "for i in points[1]:\n",
    "    x.append(i[0])\n",
    "    y.append(i[1])"
   ]
  },
  {
   "cell_type": "code",
   "execution_count": 41,
   "metadata": {},
   "outputs": [
    {
     "data": {
      "text/plain": [
       "[<matplotlib.lines.Line2D at 0x7f833a2a3748>]"
      ]
     },
     "execution_count": 41,
     "metadata": {},
     "output_type": "execute_result"
    },
    {
     "data": {
      "image/png": "[encoded data removed]",
      "text/plain": [
       "<Figure size 432x288 with 1 Axes>"
      ]
     },
     "metadata": {
      "needs_background": "light"
     },
     "output_type": "display_data"
    }
   ],
   "source": [
    "plt.plot(x,y,'r.')\n",
    "# plt.plot(4,5,'k.')"
   ]
  }
 ],
 "metadata": {
  "kernelspec": {
   "display_name": "Python 3",
   "language": "python",
   "name": "python3"
  },
  "language_info": {
   "codemirror_mode": {
    "name": "ipython",
    "version": 3
   },
   "file_extension": ".py",
   "mimetype": "text/x-python",
   "name": "python",
   "nbconvert_exporter": "python",
   "pygments_lexer": "ipython3",
   "version": "3.7.1"
  }
 },
 "nbformat": 4,
 "nbformat_minor": 2
}
