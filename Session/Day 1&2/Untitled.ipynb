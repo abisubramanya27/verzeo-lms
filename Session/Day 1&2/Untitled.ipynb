{
 "cells": [
  {
   "cell_type": "markdown",
   "metadata": {},
   "source": [
    "# Difference Between Python 2 And python 3"
   ]
  },
  {
   "cell_type": "code",
   "execution_count": 12,
   "metadata": {},
   "outputs": [
    {
     "name": "stdout",
     "output_type": "stream",
     "text": [
      "Hello Name\n",
      "hi\n"
     ]
    }
   ],
   "source": [
    "# Print\n",
    "\n",
    "# In python 2\n",
    "# print 'hello'\n",
    "\n",
    "# In python 3\n",
    "print('Hello',end=' ')\n",
    "print('Name')\n",
    "print('hi')"
   ]
  },
  {
   "cell_type": "code",
   "execution_count": 9,
   "metadata": {},
   "outputs": [
    {
     "name": "stdout",
     "output_type": "stream",
     "text": [
      "12/5: 2.4\n",
      "12//5 2\n"
     ]
    }
   ],
   "source": [
    "# /\n",
    "\n",
    "# python 2\n",
    "# print(12/5)\n",
    "\n",
    "# Output: 2\n",
    "\n",
    "#python 3\n",
    "print(\"12/5:\",12/5)\n",
    "print(\"12//5\",12//5)"
   ]
  },
  {
   "cell_type": "code",
   "execution_count": null,
   "metadata": {},
   "outputs": [],
   "source": [
    "# range\n",
    "\n",
    "# python 2\n",
    "# xrange(start_index,end_index)\n",
    "\n",
    "# python 3\n",
    "range(start_index,end_index)"
   ]
  },
  {
   "cell_type": "code",
   "execution_count": 10,
   "metadata": {},
   "outputs": [
    {
     "ename": "NameError",
     "evalue": "name 'name' is not defined",
     "output_type": "error",
     "traceback": [
      "\u001b[0;31m---------------------------------------------------------------------------\u001b[0m",
      "\u001b[0;31mNameError\u001b[0m                                 Traceback (most recent call last)",
      "\u001b[0;32m<ipython-input-10-9ba126b17b03>\u001b[0m in \u001b[0;36m<module>\u001b[0;34m\u001b[0m\n\u001b[0;32m----> 1\u001b[0;31m \u001b[0mprint\u001b[0m\u001b[0;34m(\u001b[0m\u001b[0mname\u001b[0m\u001b[0;34m)\u001b[0m\u001b[0;34m\u001b[0m\u001b[0;34m\u001b[0m\u001b[0m\n\u001b[0m",
      "\u001b[0;31mNameError\u001b[0m: name 'name' is not defined"
     ]
    }
   ],
   "source": [
    "print(name)"
   ]
  },
  {
   "cell_type": "code",
   "execution_count": 11,
   "metadata": {},
   "outputs": [
    {
     "name": "stdout",
     "output_type": "stream",
     "text": [
      "name 'name' is not defined\n"
     ]
    }
   ],
   "source": [
    "# error Handling\n",
    "\n",
    "# python 2\n",
    "\"\"\"try:\n",
    "    print(name)\n",
    "except NameError, err:\n",
    "    print(err)\n",
    "\"\"\"\n",
    "#python 3\n",
    "try:\n",
    "    print(name)\n",
    "except NameError as err:\n",
    "    print(err)\n"
   ]
  },
  {
   "cell_type": "markdown",
   "metadata": {},
   "source": [
    "# Variables\n"
   ]
  },
  {
   "cell_type": "code",
   "execution_count": 1,
   "metadata": {},
   "outputs": [
    {
     "name": "stdout",
     "output_type": "stream",
     "text": [
      "<class 'int'>\n"
     ]
    }
   ],
   "source": [
    "var = 12\n",
    "print(type(var))"
   ]
  },
  {
   "cell_type": "code",
   "execution_count": 2,
   "metadata": {},
   "outputs": [
    {
     "name": "stdout",
     "output_type": "stream",
     "text": [
      "<class 'float'>\n"
     ]
    }
   ],
   "source": [
    "var1 = 12.56\n",
    "print(type(var1))"
   ]
  },
  {
   "cell_type": "code",
   "execution_count": 1,
   "metadata": {},
   "outputs": [
    {
     "name": "stdout",
     "output_type": "stream",
     "text": [
      "<class 'int'>\n",
      "<class 'str'>\n"
     ]
    }
   ],
   "source": [
    "var = 12\n",
    "print(type(var))\n",
    "var = 'hello'\n",
    "print(type(var))"
   ]
  },
  {
   "cell_type": "code",
   "execution_count": 78,
   "metadata": {},
   "outputs": [],
   "source": [
    "var = \"string\"\n",
    "var1 = 'string2'"
   ]
  },
  {
   "cell_type": "code",
   "execution_count": 79,
   "metadata": {},
   "outputs": [
    {
     "name": "stdout",
     "output_type": "stream",
     "text": [
      "<class 'str'>\n",
      "<class 'str'>\n"
     ]
    }
   ],
   "source": [
    "print(type(var))\n",
    "print(type(var1))"
   ]
  },
  {
   "cell_type": "code",
   "execution_count": 13,
   "metadata": {},
   "outputs": [
    {
     "name": "stdout",
     "output_type": "stream",
     "text": [
      "a example of a string\n"
     ]
    }
   ],
   "source": [
    "sent = \"This is a example of a string\"\n",
    "sentnum = '0123456789'\n",
    "# slicing\n",
    "\n",
    "# var = sent[0:8]\n",
    "# var = sent[:5]\n",
    "# var = sentnum[:8:3]\n",
    "# var = sent[-1::-1]\n",
    "# var = sent[8::1]\n",
    "print(var)"
   ]
  },
  {
   "cell_type": "code",
   "execution_count": 23,
   "metadata": {},
   "outputs": [
    {
     "name": "stdout",
     "output_type": "stream",
     "text": [
      "g\n",
      "This is a example of a string and this is the second statement\n",
      "['Th', 's ', 's a example of a str', 'ng and th', 's ', 's the second statement']\n"
     ]
    }
   ],
   "source": [
    "# character picking\n",
    "# char = sent[6]\n",
    "char = sent[-1]\n",
    "# char = sentnum[6]\n",
    "print(char)\n",
    "\n",
    "\n",
    "# Concatenation\n",
    "\n",
    "sent2 = ' and this is the second statement'\n",
    "sent3 = sent + sent2\n",
    "print(sent3)\n",
    "\n",
    "# split function\n",
    "\n",
    "splitt = sent3.split('i')\n",
    "# splitt = sent3.split()\n",
    "print(splitt)"
   ]
  },
  {
   "cell_type": "markdown",
   "metadata": {},
   "source": [
    "# List"
   ]
  },
  {
   "cell_type": "code",
   "execution_count": 25,
   "metadata": {},
   "outputs": [
    {
     "name": "stdout",
     "output_type": "stream",
     "text": [
      "<class 'list'>\n",
      "[]\n"
     ]
    }
   ],
   "source": [
    "lists = list()\n",
    "print(type(lists))\n",
    "print(lists)"
   ]
  },
  {
   "cell_type": "code",
   "execution_count": 26,
   "metadata": {},
   "outputs": [
    {
     "name": "stdout",
     "output_type": "stream",
     "text": [
      "[12, 65, 98, 23, 90, 'abc', 'qwe', True]\n",
      "23\n",
      "[23, 90, 'abc']\n"
     ]
    }
   ],
   "source": [
    "lists1 = [12,65,98,23,90,'abc',\"qwe\",True]\n",
    "\n",
    "print(lists1)\n",
    "print(lists1[3])\n",
    "print(lists1[3:6])"
   ]
  },
  {
   "cell_type": "code",
   "execution_count": 27,
   "metadata": {},
   "outputs": [
    {
     "name": "stdout",
     "output_type": "stream",
     "text": [
      "[[12, 6, 9, 23, 65], [12, 54, 66, 23], [12, 65, 98, 23, 90, 'abc', 'qwe', True]]\n",
      "[12, 65, 98, 23, 90, 'abc', 'qwe', True]\n",
      "True\n"
     ]
    }
   ],
   "source": [
    "lists2 = [[12,6,9,23,65],[12,54,66,23],lists1]\n",
    "print(lists2)\n",
    "print(lists2[2])\n",
    "# lists3 = \n",
    "# print(\"Lists3:\",lists3)\n",
    "print(lists2[2][7])"
   ]
  },
  {
   "cell_type": "code",
   "execution_count": 35,
   "metadata": {},
   "outputs": [
    {
     "name": "stdout",
     "output_type": "stream",
     "text": [
      "[18, 18, 18, 18, 14, 1, 19]\n"
     ]
    }
   ],
   "source": [
    "# lists[0]= 12 #This will give indexerror\n",
    "# append the values\n",
    "lists.append(19)\n",
    "print(lists)\n",
    "# print(len(lists))"
   ]
  },
  {
   "cell_type": "code",
   "execution_count": 38,
   "metadata": {},
   "outputs": [
    {
     "name": "stdout",
     "output_type": "stream",
     "text": [
      "[12, 65, 98, 23, 'New112323', 90, 'abc', 'qwe', True]\n",
      "[12, 65, 98, 23, 'New112323', 90, 'abc', 'qwe', True, 'new']\n"
     ]
    }
   ],
   "source": [
    "print(lists1)\n",
    "# lists1.insert(4,'New112323')\n",
    "# print(lists1)\n",
    "\n",
    "lists1.insert(25,'new')\n",
    "print(lists1)"
   ]
  },
  {
   "cell_type": "code",
   "execution_count": 16,
   "metadata": {},
   "outputs": [
    {
     "name": "stdout",
     "output_type": "stream",
     "text": [
      "[12, 65, 98, 23, 'New1', 'New1', 'New', 'New', 'New', 'asc', 90, 'abc', 'qwe', True, 'new']\n"
     ]
    }
   ],
   "source": [
    "print(lists1)"
   ]
  },
  {
   "cell_type": "code",
   "execution_count": 39,
   "metadata": {},
   "outputs": [
    {
     "name": "stdout",
     "output_type": "stream",
     "text": [
      "[12, 65, 98, 'New112323', 90, 'abc', 'qwe', True, 'new']\n"
     ]
    }
   ],
   "source": [
    "# removing the value\n",
    "\n",
    "lists1.remove(23)\n",
    "print(lists1)"
   ]
  },
  {
   "cell_type": "code",
   "execution_count": 40,
   "metadata": {},
   "outputs": [
    {
     "data": {
      "text/plain": [
       "'New112323'"
      ]
     },
     "execution_count": 40,
     "metadata": {},
     "output_type": "execute_result"
    }
   ],
   "source": [
    "lists1.pop(3)"
   ]
  },
  {
   "cell_type": "code",
   "execution_count": 41,
   "metadata": {},
   "outputs": [
    {
     "name": "stdout",
     "output_type": "stream",
     "text": [
      "[12, 65, 98, 90, 'abc', 'qwe', True, 'new']\n"
     ]
    }
   ],
   "source": [
    "print(lists1)"
   ]
  },
  {
   "cell_type": "code",
   "execution_count": 53,
   "metadata": {},
   "outputs": [
    {
     "name": "stdout",
     "output_type": "stream",
     "text": [
      "[18, 18, 18, 18, 14, 1, 19, 12, 65, 98, 90, 'abc', 'qwe', True, 'new']\n",
      "[12, 65, 98, 90, 'abc', 'qwe', True, 'new']\n"
     ]
    }
   ],
   "source": [
    "# extending a list\n",
    "\n",
    "print(lists)\n",
    "# print(lists+lists1)\n",
    "# lists.extend(lists1)\n",
    "print(lists1)"
   ]
  },
  {
   "cell_type": "code",
   "execution_count": 30,
   "metadata": {},
   "outputs": [
    {
     "name": "stdout",
     "output_type": "stream",
     "text": [
      "[12, 12, 12, 12, 12, 15, 18, 12, 65, 98, 23, 90, 'abc', 'qwe', True]\n"
     ]
    }
   ],
   "source": [
    "print(lists)"
   ]
  },
  {
   "cell_type": "code",
   "execution_count": 54,
   "metadata": {},
   "outputs": [],
   "source": [
    "lists.append(lists1)"
   ]
  },
  {
   "cell_type": "code",
   "execution_count": 55,
   "metadata": {},
   "outputs": [
    {
     "name": "stdout",
     "output_type": "stream",
     "text": [
      "[18, 18, 18, 18, 14, 1, 19, 12, 65, 98, 90, 'abc', 'qwe', True, 'new', [12, 65, 98, 90, 'abc', 'qwe', True, 'new']]\n"
     ]
    }
   ],
   "source": [
    "print(lists)"
   ]
  },
  {
   "cell_type": "markdown",
   "metadata": {},
   "source": [
    "# Tuples"
   ]
  },
  {
   "cell_type": "code",
   "execution_count": 47,
   "metadata": {},
   "outputs": [
    {
     "name": "stdout",
     "output_type": "stream",
     "text": [
      "<class 'tuple'>\n",
      "(12, 32, 4, 65, 86)\n"
     ]
    }
   ],
   "source": [
    "tuples = (12,32,4,65,86)\n",
    "print(type(tuples))\n",
    "print(tuples)"
   ]
  },
  {
   "cell_type": "code",
   "execution_count": 47,
   "metadata": {},
   "outputs": [
    {
     "ename": "AttributeError",
     "evalue": "'tuple' object has no attribute 'remove'",
     "output_type": "error",
     "traceback": [
      "\u001b[0;31m---------------------------------------------------------------------------\u001b[0m",
      "\u001b[0;31mAttributeError\u001b[0m                            Traceback (most recent call last)",
      "\u001b[0;32m<ipython-input-47-c791ad4ed228>\u001b[0m in \u001b[0;36m<module>\u001b[0;34m\u001b[0m\n\u001b[0;32m----> 1\u001b[0;31m \u001b[0mtuples\u001b[0m\u001b[0;34m.\u001b[0m\u001b[0mremove\u001b[0m\u001b[0;34m(\u001b[0m\u001b[0;36m12\u001b[0m\u001b[0;34m)\u001b[0m\u001b[0;34m\u001b[0m\u001b[0;34m\u001b[0m\u001b[0m\n\u001b[0m",
      "\u001b[0;31mAttributeError\u001b[0m: 'tuple' object has no attribute 'remove'"
     ]
    }
   ],
   "source": [
    "tuples.remove(12)"
   ]
  },
  {
   "cell_type": "code",
   "execution_count": 51,
   "metadata": {},
   "outputs": [
    {
     "name": "stdout",
     "output_type": "stream",
     "text": [
      "(12, 32, 4, 65, 86)\n",
      "[12, 32, 4, 65, 86]\n",
      "<class 'list'>\n",
      "(12, 32, 4, 65, 86)\n",
      "<class 'tuple'>\n"
     ]
    }
   ],
   "source": [
    "# conversion of lists into tuple and vice-versa\n",
    "print(tuples)\n",
    "tuplist = list(tuples)\n",
    "print(tuplist)\n",
    "print(type(tuplist))\n",
    "tuplist = tuple(tuplist)\n",
    "print(tuplist)\n",
    "print(type(tuplist))"
   ]
  },
  {
   "cell_type": "code",
   "execution_count": 50,
   "metadata": {},
   "outputs": [
    {
     "name": "stdout",
     "output_type": "stream",
     "text": [
      "(1, 2, 3, 4, 5, 6)\n"
     ]
    }
   ],
   "source": [
    "print(tuple([1,2,3,4,5,6]))"
   ]
  },
  {
   "cell_type": "markdown",
   "metadata": {},
   "source": [
    "# Dictionary"
   ]
  },
  {
   "cell_type": "code",
   "execution_count": 31,
   "metadata": {
    "scrolled": true
   },
   "outputs": [
    {
     "name": "stdout",
     "output_type": "stream",
     "text": [
      "{'key1': 'value1', True: 'value2', 23: None}\n",
      "value2\n",
      "None\n",
      "value1\n"
     ]
    }
   ],
   "source": [
    "dicti = dict()\n",
    "dicti1 = {'key1':'value1',True:'value2',23:None}\n",
    "print(dicti1)\n",
    "print(dicti1[True])\n",
    "print(dicti1[23])\n",
    "print(dicti1['key1'])"
   ]
  },
  {
   "cell_type": "code",
   "execution_count": 3,
   "metadata": {},
   "outputs": [
    {
     "name": "stdout",
     "output_type": "stream",
     "text": [
      "dict_keys(['key1', True, 23])\n",
      "dict_values(['value1', 'value2', 'Value3'])\n"
     ]
    }
   ],
   "source": [
    "print(dicti1.keys())\n",
    "print(dicti1.values())"
   ]
  },
  {
   "cell_type": "code",
   "execution_count": 52,
   "metadata": {},
   "outputs": [
    {
     "name": "stdout",
     "output_type": "stream",
     "text": [
      "key1\n"
     ]
    }
   ],
   "source": [
    "print(list(dicti1.keys())[list(dicti1.values()).index('value1')])"
   ]
  },
  {
   "cell_type": "code",
   "execution_count": 35,
   "metadata": {},
   "outputs": [
    {
     "name": "stdout",
     "output_type": "stream",
     "text": [
      "['value1', 'value2']\n",
      "0\n",
      "key1\n"
     ]
    }
   ],
   "source": [
    "print(list(dicti1.values()))\n",
    "print(list(dicti1.values()).index('value1'))\n",
    "print(list(dicti1.keys())[0])"
   ]
  },
  {
   "cell_type": "code",
   "execution_count": 28,
   "metadata": {},
   "outputs": [],
   "source": [
    "dicti1['key3'] = None"
   ]
  },
  {
   "cell_type": "code",
   "execution_count": 29,
   "metadata": {},
   "outputs": [
    {
     "name": "stdout",
     "output_type": "stream",
     "text": [
      "{'key1': 'value1', True: 'value2', 23: 'Value3', 'key3': None}\n"
     ]
    }
   ],
   "source": [
    "print(dicti1)"
   ]
  },
  {
   "cell_type": "code",
   "execution_count": 4,
   "metadata": {},
   "outputs": [],
   "source": [
    "dict2 = {'key1':[1,2,3,4,5],'key2':(1,2,3,4,5),'key3':{'one':'val'}}"
   ]
  },
  {
   "cell_type": "code",
   "execution_count": 5,
   "metadata": {},
   "outputs": [
    {
     "name": "stdout",
     "output_type": "stream",
     "text": [
      "{'key1': [1, 2, 3, 4, 5], 'key2': (1, 2, 3, 4, 5), 'key3': {'one': 'val'}}\n"
     ]
    }
   ],
   "source": [
    "print(dict2)"
   ]
  },
  {
   "cell_type": "code",
   "execution_count": 7,
   "metadata": {},
   "outputs": [
    {
     "data": {
      "text/plain": [
       "[1, 2, 3, 4, 5]"
      ]
     },
     "execution_count": 7,
     "metadata": {},
     "output_type": "execute_result"
    }
   ],
   "source": [
    "dict2['key1']"
   ]
  },
  {
   "cell_type": "code",
   "execution_count": 8,
   "metadata": {},
   "outputs": [
    {
     "name": "stdout",
     "output_type": "stream",
     "text": [
      "3\n"
     ]
    }
   ],
   "source": [
    "print(dict2['key1'][2])"
   ]
  },
  {
   "cell_type": "code",
   "execution_count": 10,
   "metadata": {},
   "outputs": [
    {
     "name": "stdout",
     "output_type": "stream",
     "text": [
      "val\n"
     ]
    }
   ],
   "source": [
    "print(dict2['key3']['one'])"
   ]
  },
  {
   "cell_type": "code",
   "execution_count": 13,
   "metadata": {},
   "outputs": [
    {
     "name": "stdout",
     "output_type": "stream",
     "text": [
      "dict_items([('key1', [1, 2, 3, 4, 5]), ('key2', (1, 2, 3, 4, 5)), ('key3', {'one': 'val'})])\n"
     ]
    }
   ],
   "source": [
    "print(dict2.items())"
   ]
  },
  {
   "cell_type": "code",
   "execution_count": 16,
   "metadata": {},
   "outputs": [
    {
     "name": "stdout",
     "output_type": "stream",
     "text": [
      "key1\n",
      "key2\n",
      "key3\n"
     ]
    }
   ],
   "source": [
    "for a in dict2:\n",
    "    print(a)"
   ]
  },
  {
   "cell_type": "code",
   "execution_count": 20,
   "metadata": {},
   "outputs": [
    {
     "name": "stdout",
     "output_type": "stream",
     "text": [
      "key1 - [1, 2, 3, 4, 5]\n",
      "key2 - (1, 2, 3, 4, 5)\n",
      "key3 - {'one': 'val'}\n"
     ]
    }
   ],
   "source": [
    "for a,b in dict2.items():\n",
    "    print(a,'-',b)"
   ]
  },
  {
   "cell_type": "markdown",
   "metadata": {},
   "source": [
    "# Input"
   ]
  },
  {
   "cell_type": "code",
   "execution_count": 8,
   "metadata": {},
   "outputs": [
    {
     "name": "stdout",
     "output_type": "stream",
     "text": [
      "ENTER THE VALUE: 123\n",
      "<class 'str'>\n"
     ]
    }
   ],
   "source": [
    "print(type(input(\"ENTER THE VALUE: \")))"
   ]
  },
  {
   "cell_type": "code",
   "execution_count": 24,
   "metadata": {},
   "outputs": [
    {
     "name": "stdout",
     "output_type": "stream",
     "text": [
      "Enter the values: 123\n",
      "<class 'int'>\n",
      "123\n"
     ]
    }
   ],
   "source": [
    "var = eval(input(\"Enter the values: \"))\n",
    "# var = int(input(\"Enter the values: \"))\n",
    "print(type(var))\n",
    "print(var)"
   ]
  },
  {
   "cell_type": "markdown",
   "metadata": {},
   "source": [
    "# Input in the list"
   ]
  },
  {
   "cell_type": "code",
   "execution_count": 28,
   "metadata": {},
   "outputs": [],
   "source": [
    "list4 = list()\n"
   ]
  },
  {
   "cell_type": "code",
   "execution_count": 34,
   "metadata": {},
   "outputs": [
    {
     "name": "stdout",
     "output_type": "stream",
     "text": [
      "Enter: ddsfdsds\n"
     ]
    }
   ],
   "source": [
    "list4.append(input(\"Enter: \"))"
   ]
  },
  {
   "cell_type": "code",
   "execution_count": 35,
   "metadata": {},
   "outputs": [
    {
     "name": "stdout",
     "output_type": "stream",
     "text": [
      "['12', '32', '43', '54', 'ddsfdsds']\n"
     ]
    }
   ],
   "source": [
    "print(list4)"
   ]
  },
  {
   "cell_type": "markdown",
   "metadata": {},
   "source": [
    "# digits of a number in a list1"
   ]
  },
  {
   "cell_type": "code",
   "execution_count": 36,
   "metadata": {
    "scrolled": true
   },
   "outputs": [
    {
     "name": "stdout",
     "output_type": "stream",
     "text": [
      "['1', '2', '3', '4']\n",
      "9\n"
     ]
    }
   ],
   "source": [
    "print(list('1234')) # convert a number into a list\n",
    "sums = 0\n",
    "n = 234\n",
    "for i in list(str(n)): # getting the sum of the digit of the number\n",
    "    sums += int(i)\n",
    "print(sums)\n",
    "# print(list(input()))\n",
    "# print(list(1234))"
   ]
  },
  {
   "cell_type": "markdown",
   "metadata": {},
   "source": [
    "# Conditional Statement"
   ]
  },
  {
   "cell_type": "code",
   "execution_count": 17,
   "metadata": {},
   "outputs": [
    {
     "name": "stdout",
     "output_type": "stream",
     "text": [
      "Enter the number123\n",
      "Number is smalled than 24\n"
     ]
    }
   ],
   "source": [
    "num = eval(input('Enter the number'))\n",
    "if not num > 24:\n",
    "    print(\"Number is greater than 24\")\n",
    "else:\n",
    "    print(\"Number is smaller than 24\")\n"
   ]
  },
  {
   "cell_type": "code",
   "execution_count": 25,
   "metadata": {},
   "outputs": [
    {
     "name": "stdout",
     "output_type": "stream",
     "text": [
      "12\n"
     ]
    }
   ],
   "source": [
    "# else if\n",
    "if num > 25:\n",
    "    print('12')\n",
    "elif num == 23:\n",
    "    print(\"Equals\")\n",
    "else:\n",
    "    print('none')"
   ]
  },
  {
   "cell_type": "code",
   "execution_count": 56,
   "metadata": {},
   "outputs": [],
   "source": [
    "choice = 2\n",
    "# not ->!\n",
    "# and -> &&\n",
    "# or -> ||\n",
    "if (choice == 0) and (choice == 2):\n",
    "    pass"
   ]
  },
  {
   "cell_type": "markdown",
   "metadata": {},
   "source": [
    "# Iteration"
   ]
  },
  {
   "cell_type": "code",
   "execution_count": 35,
   "metadata": {},
   "outputs": [
    {
     "name": "stdout",
     "output_type": "stream",
     "text": [
      "[0, 2, 4, 6, 8]\n",
      "2\n",
      "------------------------------\n",
      "5\n",
      "------------------------------\n",
      "8\n",
      "------------------------------\n"
     ]
    }
   ],
   "source": [
    "# for\n",
    "print(list(range(0,10,2)))\n",
    "# print(list(range(3,10)))\n",
    "for i in range(2,10,3):\n",
    "    print(i)\n",
    "    print('-'*30)\n",
    "#     for j in range(10):\n",
    "#         pass\n"
   ]
  },
  {
   "cell_type": "code",
   "execution_count": 39,
   "metadata": {},
   "outputs": [
    {
     "name": "stdout",
     "output_type": "stream",
     "text": [
      "1\n",
      "2\n",
      "3\n",
      "4\n",
      "5\n"
     ]
    }
   ],
   "source": [
    "l = [1,2,3,4,5]\n",
    "# for i in l:\n",
    "#     print(i)\n",
    "\n",
    "# for i in range(len(l)):\n",
    "#     print(l[i])"
   ]
  },
  {
   "cell_type": "code",
   "execution_count": 43,
   "metadata": {},
   "outputs": [
    {
     "name": "stdout",
     "output_type": "stream",
     "text": [
      "1\n",
      "2\n",
      "3\n",
      "4\n",
      "5\n",
      "6\n",
      "7\n",
      "8\n",
      "9\n",
      "10\n"
     ]
    }
   ],
   "source": [
    "# While \n",
    "\n",
    "n = 0\n",
    "while n<10:\n",
    "#     print(n)\n",
    "    n += 1 # n = n + 1\n",
    "    print(n)\n",
    "#     n++\n",
    "#     n--"
   ]
  },
  {
   "cell_type": "markdown",
   "metadata": {},
   "source": [
    "# Jump Statement"
   ]
  },
  {
   "cell_type": "code",
   "execution_count": 95,
   "metadata": {
    "scrolled": true
   },
   "outputs": [
    {
     "ename": "SyntaxError",
     "evalue": "'break' outside loop (<ipython-input-95-353d426983e2>, line 5)",
     "output_type": "error",
     "traceback": [
      "\u001b[0;36m  File \u001b[0;32m\"<ipython-input-95-353d426983e2>\"\u001b[0;36m, line \u001b[0;32m5\u001b[0m\n\u001b[0;31mSyntaxError\u001b[0m\u001b[0;31m:\u001b[0m 'break' outside loop\n"
     ]
    }
   ],
   "source": [
    "var = 23\n",
    "break"
   ]
  },
  {
   "cell_type": "code",
   "execution_count": 96,
   "metadata": {},
   "outputs": [
    {
     "ename": "SyntaxError",
     "evalue": "'continue' not properly in loop (<ipython-input-96-6ca52a340915>, line 4)",
     "output_type": "error",
     "traceback": [
      "\u001b[0;36m  File \u001b[0;32m\"<ipython-input-96-6ca52a340915>\"\u001b[0;36m, line \u001b[0;32m4\u001b[0m\n\u001b[0;31mSyntaxError\u001b[0m\u001b[0;31m:\u001b[0m 'continue' not properly in loop\n"
     ]
    }
   ],
   "source": [
    "continue"
   ]
  },
  {
   "cell_type": "code",
   "execution_count": 49,
   "metadata": {},
   "outputs": [
    {
     "name": "stdout",
     "output_type": "stream",
     "text": [
      "0\n",
      "1\n",
      "2\n",
      "3\n",
      "4\n",
      "found\n"
     ]
    }
   ],
   "source": [
    "# Break\n",
    "var = 5\n",
    "for i in range(20):\n",
    "    if i == var:\n",
    "        print('found')\n",
    "        break\n",
    "#         print(i)\n",
    "    print(i)\n",
    "\n",
    "# print(i)"
   ]
  },
  {
   "cell_type": "code",
   "execution_count": 37,
   "metadata": {},
   "outputs": [
    {
     "name": "stdout",
     "output_type": "stream",
     "text": [
      "0  in continue\n",
      "1  in continue\n",
      "2  in continue\n",
      "3  in continue\n",
      "4  in continue\n",
      "found\n"
     ]
    }
   ],
   "source": [
    "# Continue\n",
    "\n",
    "var  = 5\n",
    "for i in range(20):\n",
    "    if not i==var:\n",
    "        print(i,' in continue')\n",
    "        continue\n",
    "        print(i)\n",
    "    else:\n",
    "        print('found')\n",
    "        break\n",
    "#         print(i)\n",
    "    print(i+1,' in for')\n",
    "# print(i)"
   ]
  },
  {
   "cell_type": "code",
   "execution_count": 54,
   "metadata": {},
   "outputs": [],
   "source": [
    "# Pass\n",
    "\n",
    "a,b,c = 67,45,7\n",
    "if a > b:\n",
    "    pass\n",
    "else:\n",
    "    print(a)"
   ]
  },
  {
   "cell_type": "markdown",
   "metadata": {},
   "source": [
    "# Functions"
   ]
  },
  {
   "cell_type": "code",
   "execution_count": 43,
   "metadata": {},
   "outputs": [
    {
     "name": "stdout",
     "output_type": "stream",
     "text": [
      "9\n",
      "5\n"
     ]
    },
    {
     "ename": "TypeError",
     "evalue": "demo() missing 2 required positional arguments: 'a' and 'b'",
     "output_type": "error",
     "traceback": [
      "\u001b[0;31m---------------------------------------------------------------------------\u001b[0m",
      "\u001b[0;31mTypeError\u001b[0m                                 Traceback (most recent call last)",
      "\u001b[0;32m<ipython-input-43-52313ae57443>\u001b[0m in \u001b[0;36m<module>\u001b[0;34m\u001b[0m\n\u001b[1;32m      7\u001b[0m     \u001b[0;32mreturn\u001b[0m \u001b[0ma\u001b[0m\u001b[0;34m+\u001b[0m\u001b[0mb\u001b[0m\u001b[0;34m\u001b[0m\u001b[0;34m\u001b[0m\u001b[0m\n\u001b[1;32m      8\u001b[0m \u001b[0mprint\u001b[0m\u001b[0;34m(\u001b[0m\u001b[0mdemo\u001b[0m\u001b[0;34m(\u001b[0m\u001b[0;36m2\u001b[0m\u001b[0;34m,\u001b[0m\u001b[0;36m3\u001b[0m\u001b[0;34m)\u001b[0m\u001b[0;34m)\u001b[0m\u001b[0;34m\u001b[0m\u001b[0;34m\u001b[0m\u001b[0m\n\u001b[0;32m----> 9\u001b[0;31m \u001b[0mprint\u001b[0m\u001b[0;34m(\u001b[0m\u001b[0mdemo\u001b[0m\u001b[0;34m(\u001b[0m\u001b[0;34m)\u001b[0m\u001b[0;34m)\u001b[0m\u001b[0;34m\u001b[0m\u001b[0;34m\u001b[0m\u001b[0m\n\u001b[0m\u001b[1;32m     10\u001b[0m \u001b[0;31m# def demo():\u001b[0m\u001b[0;34m\u001b[0m\u001b[0;34m\u001b[0m\u001b[0;34m\u001b[0m\u001b[0m\n\u001b[1;32m     11\u001b[0m \u001b[0;31m#     a,b= input(),input()\u001b[0m\u001b[0;34m\u001b[0m\u001b[0;34m\u001b[0m\u001b[0;34m\u001b[0m\u001b[0m\n",
      "\u001b[0;31mTypeError\u001b[0m: demo() missing 2 required positional arguments: 'a' and 'b'"
     ]
    }
   ],
   "source": [
    "def demo():\n",
    "    a,b= 4,5\n",
    "    return a+b\n",
    "# demo()\n",
    "print(demo())\n",
    "def demo(a,b):\n",
    "    return a+b\n",
    "print(demo(2,3))\n",
    "print(demo())\n",
    "# def demo():\n",
    "#     a,b= input(),input()\n",
    "#     return eval(a)+eval(b)\n",
    "# print(demo())\n",
    "# def demo():\n",
    "#     return  eval(input()) + eval(input())\n",
    "# print(demo())\n",
    "    "
   ]
  },
  {
   "cell_type": "markdown",
   "metadata": {},
   "source": [
    "# Classes"
   ]
  },
  {
   "cell_type": "code",
   "execution_count": 45,
   "metadata": {},
   "outputs": [],
   "source": [
    "class demo():\n",
    "    def demo1():\n",
    "        num = eval(input())\n",
    "        num2 = eval(input())\n",
    "        print(num+ num2)"
   ]
  },
  {
   "cell_type": "code",
   "execution_count": 46,
   "metadata": {},
   "outputs": [
    {
     "name": "stdout",
     "output_type": "stream",
     "text": [
      "<class '__main__.demo'>\n"
     ]
    }
   ],
   "source": [
    "# create an object\n",
    "abc = demo()\n",
    "print(type(abc))"
   ]
  },
  {
   "cell_type": "code",
   "execution_count": 47,
   "metadata": {},
   "outputs": [
    {
     "ename": "TypeError",
     "evalue": "demo1() takes 0 positional arguments but 1 was given",
     "output_type": "error",
     "traceback": [
      "\u001b[0;31m---------------------------------------------------------------------------\u001b[0m",
      "\u001b[0;31mTypeError\u001b[0m                                 Traceback (most recent call last)",
      "\u001b[0;32m<ipython-input-47-0add386666bd>\u001b[0m in \u001b[0;36m<module>\u001b[0;34m\u001b[0m\n\u001b[0;32m----> 1\u001b[0;31m \u001b[0mabc\u001b[0m\u001b[0;34m.\u001b[0m\u001b[0mdemo1\u001b[0m\u001b[0;34m(\u001b[0m\u001b[0;34m)\u001b[0m\u001b[0;34m\u001b[0m\u001b[0;34m\u001b[0m\u001b[0m\n\u001b[0m",
      "\u001b[0;31mTypeError\u001b[0m: demo1() takes 0 positional arguments but 1 was given"
     ]
    }
   ],
   "source": [
    "abc.demo1()"
   ]
  },
  {
   "cell_type": "code",
   "execution_count": 48,
   "metadata": {},
   "outputs": [],
   "source": [
    "class demo():\n",
    "    num = 2\n",
    "    num2 =4\n",
    "    def demo1(abc):\n",
    "        print(abc)\n",
    "        num = 6\n",
    "        num2 = 7\n",
    "        print(num+ num2)\n",
    "    def demo2(xz):\n",
    "        print(num + num2)"
   ]
  },
  {
   "cell_type": "code",
   "execution_count": 49,
   "metadata": {},
   "outputs": [
    {
     "name": "stdout",
     "output_type": "stream",
     "text": [
      "<__main__.demo object at 0x7f904818fb00>\n",
      "13\n"
     ]
    }
   ],
   "source": [
    "abc = demo()\n",
    "abc.demo1()"
   ]
  },
  {
   "cell_type": "code",
   "execution_count": 50,
   "metadata": {},
   "outputs": [
    {
     "ename": "NameError",
     "evalue": "name 'num2' is not defined",
     "output_type": "error",
     "traceback": [
      "\u001b[0;31m---------------------------------------------------------------------------\u001b[0m",
      "\u001b[0;31mNameError\u001b[0m                                 Traceback (most recent call last)",
      "\u001b[0;32m<ipython-input-50-03e12665d85f>\u001b[0m in \u001b[0;36m<module>\u001b[0;34m\u001b[0m\n\u001b[0;32m----> 1\u001b[0;31m \u001b[0mabc\u001b[0m\u001b[0;34m.\u001b[0m\u001b[0mdemo2\u001b[0m\u001b[0;34m(\u001b[0m\u001b[0;34m)\u001b[0m\u001b[0;34m\u001b[0m\u001b[0;34m\u001b[0m\u001b[0m\n\u001b[0m",
      "\u001b[0;32m<ipython-input-48-5254b3a7de4b>\u001b[0m in \u001b[0;36mdemo2\u001b[0;34m(xz)\u001b[0m\n\u001b[1;32m      8\u001b[0m         \u001b[0mprint\u001b[0m\u001b[0;34m(\u001b[0m\u001b[0mnum\u001b[0m\u001b[0;34m+\u001b[0m \u001b[0mnum2\u001b[0m\u001b[0;34m)\u001b[0m\u001b[0;34m\u001b[0m\u001b[0;34m\u001b[0m\u001b[0m\n\u001b[1;32m      9\u001b[0m     \u001b[0;32mdef\u001b[0m \u001b[0mdemo2\u001b[0m\u001b[0;34m(\u001b[0m\u001b[0mxz\u001b[0m\u001b[0;34m)\u001b[0m\u001b[0;34m:\u001b[0m\u001b[0;34m\u001b[0m\u001b[0;34m\u001b[0m\u001b[0m\n\u001b[0;32m---> 10\u001b[0;31m         \u001b[0mprint\u001b[0m\u001b[0;34m(\u001b[0m\u001b[0mnum\u001b[0m \u001b[0;34m+\u001b[0m \u001b[0mnum2\u001b[0m\u001b[0;34m)\u001b[0m\u001b[0;34m\u001b[0m\u001b[0;34m\u001b[0m\u001b[0m\n\u001b[0m",
      "\u001b[0;31mNameError\u001b[0m: name 'num2' is not defined"
     ]
    }
   ],
   "source": [
    "abc.demo2()"
   ]
  },
  {
   "cell_type": "code",
   "execution_count": 51,
   "metadata": {},
   "outputs": [],
   "source": [
    "class demo():\n",
    "    num=2\n",
    "    num2=3\n",
    "    def demo1(abc,a,v):\n",
    "#         print(abc)\n",
    "        num = 6\n",
    "        num2 = 7\n",
    "        print(num+ num2)\n",
    "    def xyz(abc):\n",
    "        print(abc.num,abc.num2)"
   ]
  },
  {
   "cell_type": "code",
   "execution_count": 52,
   "metadata": {},
   "outputs": [
    {
     "name": "stdout",
     "output_type": "stream",
     "text": [
      "13\n",
      "2 3\n"
     ]
    }
   ],
   "source": [
    "obj = demo()\n",
    "obj.demo1(2,65)\n",
    "obj.xyz()"
   ]
  },
  {
   "cell_type": "code",
   "execution_count": 54,
   "metadata": {},
   "outputs": [],
   "source": [
    "class demo():\n",
    "    num = 2\n",
    "    num2 = 3\n",
    "    def demo1(abc1):\n",
    "#         print(abc)\n",
    "        abc1.num = 6\n",
    "        abc1.num2 = 7\n",
    "        print(abc.num+ abc.num2)\n",
    "    def xyz(avb):\n",
    "        print(avb.num+avb.num2)\n"
   ]
  },
  {
   "cell_type": "code",
   "execution_count": 55,
   "metadata": {},
   "outputs": [],
   "source": [
    "# creating an object\n",
    "abc = demo()"
   ]
  },
  {
   "cell_type": "code",
   "execution_count": 56,
   "metadata": {},
   "outputs": [
    {
     "name": "stdout",
     "output_type": "stream",
     "text": [
      "13\n"
     ]
    }
   ],
   "source": [
    "abc.demo1()"
   ]
  },
  {
   "cell_type": "code",
   "execution_count": 57,
   "metadata": {},
   "outputs": [
    {
     "name": "stdout",
     "output_type": "stream",
     "text": [
      "13\n"
     ]
    }
   ],
   "source": [
    "abc.xyz()"
   ]
  },
  {
   "cell_type": "code",
   "execution_count": 58,
   "metadata": {},
   "outputs": [],
   "source": [
    "asd = demo()"
   ]
  },
  {
   "cell_type": "code",
   "execution_count": 59,
   "metadata": {},
   "outputs": [
    {
     "name": "stdout",
     "output_type": "stream",
     "text": [
      "5\n"
     ]
    }
   ],
   "source": [
    "asd.xyz()"
   ]
  },
  {
   "cell_type": "code",
   "execution_count": 61,
   "metadata": {},
   "outputs": [],
   "source": [
    "class number():\n",
    "    def __init__(obj):\n",
    "        obj.var = input()\n",
    "        obj.age = int(input())\n",
    "    def output(obj):\n",
    "        print('Name is {} and the age is {}'.format(obj.var,obj.age))"
   ]
  },
  {
   "cell_type": "code",
   "execution_count": 62,
   "metadata": {},
   "outputs": [
    {
     "name": "stdout",
     "output_type": "stream",
     "text": [
      "fds\n",
      "21\n"
     ]
    }
   ],
   "source": [
    "abc = number()"
   ]
  },
  {
   "cell_type": "code",
   "execution_count": 63,
   "metadata": {},
   "outputs": [
    {
     "name": "stdout",
     "output_type": "stream",
     "text": [
      "Name is fds and the age is 21\n"
     ]
    }
   ],
   "source": [
    "abc.output()"
   ]
  }
 ],
 "metadata": {
  "kernelspec": {
   "display_name": "Python 3",
   "language": "python",
   "name": "python3"
  },
  "language_info": {
   "codemirror_mode": {
    "name": "ipython",
    "version": 3
   },
   "file_extension": ".py",
   "mimetype": "text/x-python",
   "name": "python",
   "nbconvert_exporter": "python",
   "pygments_lexer": "ipython3",
   "version": "3.7.1"
  }
 },
 "nbformat": 4,
 "nbformat_minor": 2
}
